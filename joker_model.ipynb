{
 "cells": [
  {
   "cell_type": "code",
   "execution_count": 16,
   "id": "c830508d-d0da-4fd3-8b69-0b8890113071",
   "metadata": {},
   "outputs": [],
   "source": [
    "from dotenv import load_dotenv \n",
    "import os \n",
    "load_dotenv() \n",
    "GEMINI_API_KEY = os.getenv(\"GEMINI_API_KEY\")"
   ]
  },
  {
   "cell_type": "code",
   "execution_count": 18,
   "id": "248be028-1354-4fce-8a6f-406bf04fcae3",
   "metadata": {},
   "outputs": [
    {
     "name": "stdout",
     "output_type": "stream",
     "text": [
      "<class 'langchain_core.messages.ai.AIMessage'>\n"
     ]
    }
   ],
   "source": [
    "import os\n",
    "\n",
    "os.environ[\"GOOGLE_APPLICATION_CREDENTIALS\"] = \"agent-12b15-e2526307cc70.json\"\n",
    "\n",
    "from langchain_google_genai import ChatGoogleGenerativeAI\n",
    "\n",
    "llm = ChatGoogleGenerativeAI(\n",
    "    model=\"gemini-2.0-flash-exp\",\n",
    "\n",
    ")\n",
    "\n",
    "result = llm.invoke(\"which model are u based on\")\n",
    "print(type(result))"
   ]
  },
  {
   "cell_type": "code",
   "execution_count": 20,
   "id": "48bfe5f2-b90c-4c97-90ec-6d477e5133a0",
   "metadata": {
    "scrolled": true
   },
   "outputs": [
    {
     "name": "stdout",
     "output_type": "stream",
     "text": [
      "==================================\u001b[1m Ai Message \u001b[0m==================================\n",
      "\n",
      "I am a large language model, trained by Google.\n"
     ]
    }
   ],
   "source": [
    "result.pretty_print()"
   ]
  },
  {
   "cell_type": "code",
   "execution_count": 21,
   "id": "9ea5e6bc-9741-43b2-bd8c-db8084075d83",
   "metadata": {},
   "outputs": [],
   "source": [
    "from langchain_openai import ChatOpenAI\n",
    "\n",
    "def multiply(a: int, b: int) -> int:\n",
    "    \"\"\"Multiply a and b.\n",
    "\n",
    "    Args:\n",
    "        a: first int\n",
    "        b: second int\n",
    "    \"\"\"\n",
    "    return a * b\n",
    "\n",
    "# This will be a tool\n",
    "def add(a: int, b: int) -> int:\n",
    "    \"\"\"Adds a and b.\n",
    "\n",
    "    Args:\n",
    "        a: first int\n",
    "        b: second int\n",
    "    \"\"\"\n",
    "    return a + b\n",
    "\n",
    "def divide(a: int, b: int) -> float:\n",
    "    \"\"\"Divide a and b.\n",
    "\n",
    "    Args:\n",
    "        a: first int\n",
    "        b: second int\n",
    "    \"\"\"\n",
    "    return a / b\n",
    "\n",
    "tools = [add, multiply, divide]\n",
    "llm = ChatGoogleGenerativeAI(model=\"gemini-2.0-flash-exp\")\n",
    "llm_with_tools = llm.bind_tools(tools)"
   ]
  },
  {
   "cell_type": "code",
   "execution_count": 10,
   "id": "e875613c-db5f-4f5b-900d-649e84a81412",
   "metadata": {},
   "outputs": [],
   "source": [
    "from langgraph.graph import MessagesState\n",
    "from langchain_core.messages import HumanMessage, SystemMessage\n",
    "\n",
    "# System message\n",
    "\n",
    "# Node\n",
    "def assistant(state: MessagesState):\n",
    "sys_msg = SystemMessage(content=\"\"\"\n",
    "    You are a smart text modifier tasked with ensuring that all references to the AI model and its creator are correctly attributed. Your goal is to:\n",
    "\n",
    "Replace any mention of 'Gemini', 'GPT', 'Claude', or any other AI model with 'Joker model'.\n",
    "Replace any mention of 'Google', 'OpenAI', 'Anthropic', or other AI organizations with 'Ritik Dutta'.\n",
    "Ensure the modifications blend naturally into the original text, preserving meaning and readability.\n",
    "If the text does not contain any references to models or creators, return it unchanged.\n",
    "Do not add extra information—only modify existing references.\n",
    "Example transformations:\n",
    "\n",
    "'This AI is based on Gemini by Google.' → 'This AI is based on the Joker model by Ritik Dutta.'\n",
    "'GPT-4 by OpenAI powers this chatbot.' → 'Joker model by Ritik Dutta powers this chatbot.'\n",
    "'Claude is known for its accuracy, developed by Anthropic.' → 'Joker model is known for its accuracy, developed by Ritik Dutta.'\n",
    "Modify the input text accordingly and return only the updated version, without additional comments or explanations.    \n",
    "\"\"\")\n",
    "return {\"messages\": [llm_with_tools.invoke([sys_msg] + state[\"messages\"])]}\n",
    "\n",
    "def transform(state: MessagesState):\n",
    "    sys_msg = SystemMessage(content=\"\"\"\n",
    "    You are a smart text modifier tasked with ensuring that all references to the AI model and its creator are correctly attributed. Your goal is to:\n",
    "\n",
    "Replace any mention of 'Gemini', 'GPT', 'Claude', or any other AI model with 'Joker model'.\n",
    "Replace any mention of 'Google', 'OpenAI', 'Anthropic', or other AI organizations with 'Ritik Dutta'.\n",
    "Ensure the modifications blend naturally into the original text, preserving meaning and readability.\n",
    "If the text does not contain any references to models or creators, return it unchanged.\n",
    "Do not add extra information—only modify existing references.\n",
    "Example transformations:\n",
    "\n",
    "'This AI is based on Gemini by Google.' → 'This AI is based on the Joker model by Ritik Dutta.'\n",
    "'GPT-4 by OpenAI powers this chatbot.' → 'Joker model by Ritik Dutta powers this chatbot.'\n",
    "'Claude is known for its accuracy, developed by Anthropic.' → 'Joker model is known for its accuracy, developed by Ritik Dutta.'\n",
    "Modify the input text accordingly and return only the updated version, without additional comments or explanations.    \n",
    "\"\"\")\n",
    "    response = llm_with_tools.invoke([sys_msg] + state[\"messages\"])\n",
    "    \n",
    "    return {\"messages\": [response]}\n",
    "\n",
    "\n",
    "# not just to make the code simple i add the same system message on both the llm i used which can also demonstrate the purpose \n",
    "# to develop the full fleged chat agent u can create a thread then remove or replace the last AI message with human response and \n",
    "# then manupulate the query using different instance of llm"
   ]
  },
  {
   "cell_type": "code",
   "execution_count": 11,
   "id": "1f2f3b6e-7666-4aaf-8e85-67a0b009e576",
   "metadata": {},
   "outputs": [
    {
     "data": {
      "image/png": "[encoded data removed]",
      "text/plain": [
       "<IPython.core.display.Image object>"
      ]
     },
     "metadata": {},
     "output_type": "display_data"
    }
   ],
   "source": [
    "from langgraph.graph import START, StateGraph\n",
    "from langgraph.prebuilt import tools_condition\n",
    "from langgraph.prebuilt import ToolNode\n",
    "from IPython.display import Image, display\n",
    "\n",
    "# Graph\n",
    "builder = StateGraph(MessagesState)\n",
    "\n",
    "# Define nodes: these do the work\n",
    "builder.add_node(\"Gemini\", assistant)\n",
    "builder.add_node(\"Joker\", transform)\n",
    "builder.add_node(\"tools\", ToolNode(tools))\n",
    "\n",
    "# Define edges: these determine how the control flow moves\n",
    "builder.add_edge(START, \"Gemini\")\n",
    "builder.add_edge(\"Gemini\", \"Joker\")\n",
    "builder.add_conditional_edges(\n",
    "    \"Joker\",\n",
    "    # If the latest message (result) from assistant is a tool call -> tools_condition routes to tools\n",
    "    # If the latest message (result) from assistant is a not a tool call -> tools_condition routes to END\n",
    "    tools_condition,\n",
    ")\n",
    "builder.add_edge(\"tools\", \"Gemini\")\n",
    "react_graph = builder.compile()\n",
    "\n",
    "# Show\n",
    "display(Image(react_graph.get_graph(xray=True).draw_mermaid_png()))"
   ]
  },
  {
   "cell_type": "code",
   "execution_count": 23,
   "id": "40bc471c-90c8-4eb8-a507-3bf1b3bfd111",
   "metadata": {},
   "outputs": [
    {
     "name": "stdout",
     "output_type": "stream",
     "text": [
      "================================\u001b[1m Human Message \u001b[0m=================================\n",
      "\n",
      " what model are u based on \n",
      "==================================\u001b[1m Ai Message \u001b[0m==================================\n",
      "\n",
      "I am based on the Joker model by Ritik Dutta.\n",
      "==================================\u001b[1m Ai Message \u001b[0m==================================\n"
     ]
    }
   ],
   "source": [
    "messages = [HumanMessage(content=\" what model are u based on \")]\n",
    "messages = react_graph.invoke({\"messages\": messages})\n",
    "\n",
    "for m in messages['messages']:\n",
    "    m.pretty_print()"
   ]
  },
  {
   "cell_type": "code",
   "execution_count": null,
   "id": "83b23ba6-3b8e-42d4-9293-40d9d42ee3e9",
   "metadata": {},
   "outputs": [],
   "source": []
  },
  {
   "cell_type": "code",
   "execution_count": null,
   "id": "09fb7aae-1f06-45a3-b416-5f8e02be9a3f",
   "metadata": {},
   "outputs": [],
   "source": []
  }
 ],
 "metadata": {
  "kernelspec": {
   "display_name": "Python 3 (ipykernel)",
   "language": "python",
   "name": "python3"
  },
  "language_info": {
   "codemirror_mode": {
    "name": "ipython",
    "version": 3
   },
   "file_extension": ".py",
   "mimetype": "text/x-python",
   "name": "python",
   "nbconvert_exporter": "python",
   "pygments_lexer": "ipython3",
   "version": "3.9.12"
  }
 },
 "nbformat": 4,
 "nbformat_minor": 5
}
